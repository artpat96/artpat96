{
 "cells": [
  {
   "cell_type": "code",
   "execution_count": 1,
   "id": "3c4b7c74",
   "metadata": {},
   "outputs": [],
   "source": [
    "import numpy as np\n",
    "import pandas as pd\n",
    "import random"
   ]
  },
  {
   "cell_type": "code",
   "execution_count": 9,
   "id": "6456dc1f",
   "metadata": {},
   "outputs": [
    {
     "name": "stdout",
     "output_type": "stream",
     "text": [
      "Player 1 choice:p\n",
      "Player 2 choice:p\n",
      "It's a tie!\n"
     ]
    }
   ],
   "source": [
    "import sys\n",
    "\n",
    "player1 = input(\"Player 1 choice:\")\n",
    "player2 = input(\"Player 2 choice:\")\n",
    "r = 'rock'\n",
    "s = 'scissors'\n",
    "p = 'paper'\n",
    "\n",
    "def compare(u1, u2):\n",
    "    if u1 == u2:\n",
    "        return(\"It's a tie!\")\n",
    "    elif u1 == 'r':\n",
    "        if u2 == 's':\n",
    "            return(\"Player 1 wins!\")\n",
    "        else:\n",
    "            return(\"Player 2 wins!\")\n",
    "    elif u1 == 's':\n",
    "        if u2 == 'p':\n",
    "            return(\"Player 1 wins!\")\n",
    "        else:\n",
    "            return(\"Player 2 wins!\")\n",
    "    elif u1 == 'p':\n",
    "        if u2 == 'r':\n",
    "            return(\"Player 1 wins!\")\n",
    "        else:\n",
    "            return(\"Player 2 wins!\")\n",
    "    else:\n",
    "        return(\"Choose between rock, paper and scissors.\")\n",
    "        sys.exit()\n",
    "\n",
    "print(compare(player1, player2))"
   ]
  },
  {
   "cell_type": "code",
   "execution_count": null,
   "id": "bedba759",
   "metadata": {},
   "outputs": [],
   "source": []
  }
 ],
 "metadata": {
  "kernelspec": {
   "display_name": "Python 3 (ipykernel)",
   "language": "python",
   "name": "python3"
  },
  "language_info": {
   "codemirror_mode": {
    "name": "ipython",
    "version": 3
   },
   "file_extension": ".py",
   "mimetype": "text/x-python",
   "name": "python",
   "nbconvert_exporter": "python",
   "pygments_lexer": "ipython3",
   "version": "3.9.12"
  }
 },
 "nbformat": 4,
 "nbformat_minor": 5
}
